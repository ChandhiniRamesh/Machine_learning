{
 "cells": [
  {
   "cell_type": "markdown",
   "metadata": {},
   "source": [
    "## Github Link"
   ]
  },
  {
   "cell_type": "markdown",
   "metadata": {},
   "source": [
    "https://github.com/sharmasaravanan/Machine_learning"
   ]
  },
  {
   "cell_type": "markdown",
   "metadata": {},
   "source": [
    "## Step for git cloning and pulling"
   ]
  },
  {
   "cell_type": "markdown",
   "metadata": {},
   "source": [
    "1. Install git in your machine by using link https://git-scm.com/downloads.\n",
    "\n",
    "2. Open your cmd and type the following command\n",
    "\n",
    "        git clone https://github.com/sharmasaravanan/Machine_learning.git\n",
    "\n",
    "3. Verify all the materials are downloaded from machine learning repo.\n",
    "\n",
    "4. Use the following commands every sunday night after your first download\n",
    "    \n",
    "        git pull origin master \n",
    "                         or       \n",
    "        git pull https://github.com/sharmasaravanan/Machine_learning.git"
   ]
  },
  {
   "cell_type": "markdown",
   "metadata": {},
   "source": [
    "## 24-Feb-2019"
   ]
  },
  {
   "cell_type": "markdown",
   "metadata": {},
   "source": [
    "## Data types"
   ]
  },
  {
   "cell_type": "code",
   "execution_count": 1,
   "metadata": {},
   "outputs": [],
   "source": [
    "i = 5 #int\n",
    "s = \"apple\" #str\n",
    "f = 3.14 #float\n",
    "b = True #bool"
   ]
  },
  {
   "cell_type": "markdown",
   "metadata": {},
   "source": [
    "### print function"
   ]
  },
  {
   "cell_type": "code",
   "execution_count": 8,
   "metadata": {},
   "outputs": [
    {
     "name": "stdout",
     "output_type": "stream",
     "text": [
      "Hello world\n",
      "112154416465465462645\n",
      "5\n",
      "apple\n",
      "3.14\n",
      "True\n"
     ]
    }
   ],
   "source": [
    "print(\"Hello world\")\n",
    "print(112154416465465462645)\n",
    "print(i)\n",
    "print(s)\n",
    "print(f)\n",
    "print(b)"
   ]
  },
  {
   "cell_type": "markdown",
   "metadata": {},
   "source": [
    "### type function"
   ]
  },
  {
   "cell_type": "code",
   "execution_count": 10,
   "metadata": {},
   "outputs": [
    {
     "name": "stdout",
     "output_type": "stream",
     "text": [
      "<class 'int'>\n",
      "<class 'str'>\n",
      "<class 'float'>\n",
      "<class 'bool'>\n"
     ]
    }
   ],
   "source": [
    "print(type(i))\n",
    "print(type(s))\n",
    "print(type(f))\n",
    "print(type(b))"
   ]
  },
  {
   "cell_type": "markdown",
   "metadata": {},
   "source": [
    "### type casting"
   ]
  },
  {
   "cell_type": "code",
   "execution_count": 21,
   "metadata": {},
   "outputs": [
    {
     "name": "stdout",
     "output_type": "stream",
     "text": [
      "hello apple\n",
      "hello 5\n",
      "===================================\n",
      "hello apple\n",
      "hello 5\n",
      "===================================\n",
      "hello apple\n",
      "hello 5\n",
      "===================================\n",
      "hello apple\n",
      "hello 5\n"
     ]
    }
   ],
   "source": [
    "# hello 5\n",
    "# hello apple\n",
    "\n",
    "#method-1\n",
    "print(\"hello \"+s)\n",
    "print(\"hello \"+str(i))\n",
    "print(\"=======\"*5)\n",
    "\n",
    "#method-2\n",
    "print(\"hello\",s)\n",
    "print(\"hello\",i)\n",
    "print(\"=======\"*5)\n",
    "\n",
    "#method-3\n",
    "print(\"hello %s\"%s)\n",
    "print(\"hello %d\"%i)\n",
    "print(\"=======\"*5)\n",
    "\n",
    "#method-4\n",
    "print(\"hello {}\".format(s))\n",
    "print(\"hello {}\".format(i))\n"
   ]
  },
  {
   "cell_type": "code",
   "execution_count": 27,
   "metadata": {},
   "outputs": [
    {
     "name": "stdout",
     "output_type": "stream",
     "text": [
      "I bought 2kg of sugar and 1l of milk for 125.8rs\n",
      "I bought 2 kg of  sugar and 1 l of milk for 125.8 rs\n",
      "I bought 2kg of sugar and 1l of milk for 125.8rs\n",
      "I bought 2kg of sugar and 1l of milk for 125.8rs\n"
     ]
    }
   ],
   "source": [
    "# I bought 2kg of sugar and 1l of milk for 125.8rs\n",
    "item1 = \"sugar\"\n",
    "item2 = \"milk\"\n",
    "w1 = 2\n",
    "w2 = 1\n",
    "r = 125.8\n",
    "print(\"I bought \"+str(w1)+\"kg of \"+item1+\" and \"+str(w2)+\"l of \"+item2+\" for \"+str(r)+\"rs\")\n",
    "print(\"I bought\",w1,\"kg of \",item1,\"and\",w2,\"l of\",item2,\"for\",r,\"rs\")\n",
    "print(\"I bought %dkg of %s and %dl of %s for %0.1frs\"%(w1,item1,w2,item2,r))\n",
    "print(\"I bought {1}kg of {0} and {3}l of {2} for {4}rs\".format(item1,w1,item2,w2,r))\n",
    "\n"
   ]
  },
  {
   "cell_type": "markdown",
   "metadata": {},
   "source": [
    "### task-1"
   ]
  },
  {
   "cell_type": "markdown",
   "metadata": {
    "solution2": "shown",
    "solution2_first": true
   },
   "source": [
    "assign n with some integer value and compute the output in the following structure\n",
    "\n",
    "output = nnn+nn+n\n",
    "\n",
    "e.g;-\n",
    "\n",
    "n = 4\n",
    "\n",
    "output = 444+44+4 = 492"
   ]
  },
  {
   "cell_type": "code",
   "execution_count": 34,
   "metadata": {
    "solution2": "shown"
   },
   "outputs": [
    {
     "name": "stdout",
     "output_type": "stream",
     "text": [
      "492\n"
     ]
    }
   ],
   "source": [
    "n = 4\n",
    "output = int(str(n)+str(n)+str(n))+int(str(n)+str(n))+n\n",
    "print(output)"
   ]
  },
  {
   "cell_type": "code",
   "execution_count": 37,
   "metadata": {
    "solution2": "shown"
   },
   "outputs": [
    {
     "data": {
      "text/plain": [
       "492"
      ]
     },
     "execution_count": 37,
     "metadata": {},
     "output_type": "execute_result"
    }
   ],
   "source": [
    "n = '4'\n",
    "int(n*3)+int(n*2)+int(n)"
   ]
  },
  {
   "cell_type": "code",
   "execution_count": null,
   "metadata": {},
   "outputs": [],
   "source": []
  }
 ],
 "metadata": {
  "kernelspec": {
   "display_name": "Python 3",
   "language": "python",
   "name": "python3"
  },
  "language_info": {
   "codemirror_mode": {
    "name": "ipython",
    "version": 3
   },
   "file_extension": ".py",
   "mimetype": "text/x-python",
   "name": "python",
   "nbconvert_exporter": "python",
   "pygments_lexer": "ipython3",
   "version": "3.6.7"
  },
  "toc": {
   "base_numbering": 1,
   "nav_menu": {},
   "number_sections": true,
   "sideBar": true,
   "skip_h1_title": false,
   "title_cell": "Table of Contents",
   "title_sidebar": "Contents",
   "toc_cell": false,
   "toc_position": {},
   "toc_section_display": true,
   "toc_window_display": false
  },
  "varInspector": {
   "cols": {
    "lenName": 16,
    "lenType": 16,
    "lenVar": 40
   },
   "kernels_config": {
    "python": {
     "delete_cmd_postfix": "",
     "delete_cmd_prefix": "del ",
     "library": "var_list.py",
     "varRefreshCmd": "print(var_dic_list())"
    },
    "r": {
     "delete_cmd_postfix": ") ",
     "delete_cmd_prefix": "rm(",
     "library": "var_list.r",
     "varRefreshCmd": "cat(var_dic_list()) "
    }
   },
   "types_to_exclude": [
    "module",
    "function",
    "builtin_function_or_method",
    "instance",
    "_Feature"
   ],
   "window_display": false
  }
 },
 "nbformat": 4,
 "nbformat_minor": 2
}
