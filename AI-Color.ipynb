{
 "cells": [
  {
   "cell_type": "markdown",
   "metadata": {},
   "source": [
    "Github link\n",
    "\n",
    "        https://github.com/sharmasaravanan/Machine_learning\n",
    "    \n",
    "Suplements:\n",
    "    \n",
    "        https://drive.google.com/drive/folders/17dMizJX_2XY845HuCl3Gy54OMBrBJpv7?usp=sharing\n",
    "        \n",
    "        https://drive.google.com/drive/folders/1RkYqT1wuKGXB-AM_oUqc9CVU90Pg4hkP?usp=sharing\n",
    "        \n",
    "        "
   ]
  },
  {
   "cell_type": "markdown",
   "metadata": {},
   "source": [
    "### 8-6-19"
   ]
  },
  {
   "cell_type": "code",
   "execution_count": 1,
   "metadata": {},
   "outputs": [
    {
     "name": "stdout",
     "output_type": "stream",
     "text": [
      "13\n"
     ]
    }
   ],
   "source": [
    "a = 8\n",
    "b = 5\n",
    "print(a+b)\n"
   ]
  },
  {
   "cell_type": "markdown",
   "metadata": {},
   "source": [
    "####  Data types"
   ]
  },
  {
   "cell_type": "code",
   "execution_count": 2,
   "metadata": {},
   "outputs": [],
   "source": [
    "i = 5 #int\n",
    "f = 3.14 #float\n",
    "s = 'apple' #string\n",
    "b = True #bool"
   ]
  },
  {
   "cell_type": "code",
   "execution_count": 3,
   "metadata": {},
   "outputs": [
    {
     "name": "stdout",
     "output_type": "stream",
     "text": [
      "<class 'bool'>\n"
     ]
    }
   ],
   "source": [
    "print(type(b))"
   ]
  },
  {
   "cell_type": "markdown",
   "metadata": {},
   "source": [
    "#### output"
   ]
  },
  {
   "cell_type": "code",
   "execution_count": 4,
   "metadata": {},
   "outputs": [
    {
     "name": "stdout",
     "output_type": "stream",
     "text": [
      "True\n",
      "8956\n",
      "hello world\n"
     ]
    }
   ],
   "source": [
    "print(b) # printing variable\n",
    "print(8956) #printing integer\n",
    "print(\"hello world\") #printing string"
   ]
  },
  {
   "cell_type": "code",
   "execution_count": 5,
   "metadata": {},
   "outputs": [
    {
     "name": "stdout",
     "output_type": "stream",
     "text": [
      "hello., how are you?\n",
      "i am doing good\n"
     ]
    }
   ],
   "source": [
    "print(\"hello., how are you?\",\"i am doing good\",sep=\"\\n\")"
   ]
  },
  {
   "cell_type": "markdown",
   "metadata": {},
   "source": [
    "#### formatted output"
   ]
  },
  {
   "cell_type": "code",
   "execution_count": 6,
   "metadata": {},
   "outputs": [
    {
     "name": "stdout",
     "output_type": "stream",
     "text": [
      "--------Method 1-----------\n",
      "hello apple\n",
      "hello 5\n",
      "--------Method 2-----------\n",
      "hello apple\n",
      "hello 5\n",
      "--------Method 3-----------\n",
      "hello apple\n",
      "hello 5\n",
      "--------Method 4-----------\n",
      "hello apple\n",
      "hello 5\n"
     ]
    }
   ],
   "source": [
    "# hello apple\n",
    "# hello 5\n",
    "\n",
    "print(\"--------Method 1-----------\")\n",
    "print(\"hello \"+s)\n",
    "print(\"hello \"+str(i))\n",
    "\n",
    "print(\"--------Method 2-----------\")\n",
    "print(\"hello\",s)\n",
    "print(\"hello\",i)\n",
    "\n",
    "print(\"--------Method 3-----------\")\n",
    "print(\"hello %s\"%s)\n",
    "print(\"hello %d\"%i)\n",
    "\n",
    "print(\"--------Method 4-----------\")\n",
    "print(\"hello {}\".format(s))\n",
    "print(\"hello {}\".format(i))"
   ]
  },
  {
   "cell_type": "code",
   "execution_count": 7,
   "metadata": {},
   "outputs": [],
   "source": [
    "# I saw a boy whose age is 15 and his name is John. He has a sister of 5years old.\n",
    "a1 = 15\n",
    "a2 = 5\n",
    "name = \"John\""
   ]
  },
  {
   "cell_type": "code",
   "execution_count": 8,
   "metadata": {},
   "outputs": [
    {
     "name": "stdout",
     "output_type": "stream",
     "text": [
      " I saw a boy whose age is 15 and his name is John. He has a sister of 5years old.\n",
      " I saw a boy whose age is 15 and his name is John . He has a sister of 5 years old.\n",
      " I saw a boy whose age is 15 and his name is John. He has a sister of 5years old.\n",
      " I saw a boy whose age is 15 and his name is John. He has a sister of 5years old\n"
     ]
    }
   ],
   "source": [
    "print(\" I saw a boy whose age is \"+str(a1)+\" and his name is \"+name+\". He has a sister of \"+str(a2)+\"years old.\")\n",
    "print(\" I saw a boy whose age is\",a1,\"and his name is\",name,\". He has a sister of\",a2,\"years old.\")\n",
    "print(\" I saw a boy whose age is %d and his name is %s. He has a sister of %dyears old.\"%(a1,name,a2))\n",
    "print(\" I saw a boy whose age is {} and his name is {}. He has a sister of {}years old\".format(a1,name,a2))"
   ]
  },
  {
   "cell_type": "code",
   "execution_count": 9,
   "metadata": {},
   "outputs": [
    {
     "name": "stdout",
     "output_type": "stream",
     "text": [
      " I saw a boy whose age is 15 and his name is John. He has a sister of 5years old\n"
     ]
    }
   ],
   "source": [
    "print(\" I saw a boy whose age is {1} and his name is {2}. He has a sister of {0}years old\".format(a2,a1,name))"
   ]
  },
  {
   "cell_type": "code",
   "execution_count": 11,
   "metadata": {},
   "outputs": [
    {
     "name": "stdout",
     "output_type": "stream",
     "text": [
      "hello John \n",
      "how are you?\n"
     ]
    }
   ],
   "source": [
    "print(\"hello\",name,\"\\nhow are you?\")"
   ]
  },
  {
   "cell_type": "code",
   "execution_count": null,
   "metadata": {},
   "outputs": [],
   "source": [
    "    *\n",
    "  *    *\n",
    "*   *    *"
   ]
  },
  {
   "cell_type": "code",
   "execution_count": 17,
   "metadata": {},
   "outputs": [
    {
     "name": "stdout",
     "output_type": "stream",
     "text": [
      "492\n"
     ]
    }
   ],
   "source": [
    "n = 4\n",
    "\n",
    "ans = int(str(n)+str(n)+str(n))+int(str(n)+str(n))+n\n",
    "print(ans)"
   ]
  },
  {
   "cell_type": "code",
   "execution_count": 19,
   "metadata": {},
   "outputs": [
    {
     "data": {
      "text/plain": [
       "492"
      ]
     },
     "execution_count": 19,
     "metadata": {},
     "output_type": "execute_result"
    }
   ],
   "source": [
    "int(str(n)*3)+int(str(n)*2)+n"
   ]
  },
  {
   "cell_type": "code",
   "execution_count": 20,
   "metadata": {},
   "outputs": [
    {
     "data": {
      "text/plain": [
       "615"
      ]
     },
     "execution_count": 20,
     "metadata": {},
     "output_type": "execute_result"
    }
   ],
   "source": [
    "n='5'\n",
    "int(n+n+n)+int(n+n)+int(n)"
   ]
  },
  {
   "cell_type": "code",
   "execution_count": 22,
   "metadata": {},
   "outputs": [],
   "source": [
    "char = '    *'"
   ]
  },
  {
   "cell_type": "code",
   "execution_count": 24,
   "metadata": {},
   "outputs": [
    {
     "data": {
      "text/plain": [
       "'    *    *'"
      ]
     },
     "execution_count": 24,
     "metadata": {},
     "output_type": "execute_result"
    }
   ],
   "source": [
    "char+char"
   ]
  },
  {
   "cell_type": "code",
   "execution_count": 25,
   "metadata": {},
   "outputs": [
    {
     "name": "stdout",
     "output_type": "stream",
     "text": [
      "  *  \n",
      " * * \n",
      "* * *\n"
     ]
    }
   ],
   "source": [
    "print(\"  *  \",\" * * \",\"* * *\",sep=\"\\n\")"
   ]
  },
  {
   "cell_type": "markdown",
   "metadata": {},
   "source": [
    "#### getting input"
   ]
  },
  {
   "cell_type": "code",
   "execution_count": 36,
   "metadata": {},
   "outputs": [
    {
     "name": "stdout",
     "output_type": "stream",
     "text": [
      "Enter the numerical value : 6\n",
      "Enter your name : papaya\n"
     ]
    }
   ],
   "source": [
    "num = int(input(\"Enter the numerical value : \"))\n",
    "name = input(\"Enter your name : \")"
   ]
  },
  {
   "cell_type": "code",
   "execution_count": 37,
   "metadata": {},
   "outputs": [
    {
     "data": {
      "text/plain": [
       "int"
      ]
     },
     "execution_count": 37,
     "metadata": {},
     "output_type": "execute_result"
    }
   ],
   "source": [
    "type(num)"
   ]
  },
  {
   "cell_type": "code",
   "execution_count": 38,
   "metadata": {},
   "outputs": [
    {
     "data": {
      "text/plain": [
       "str"
      ]
     },
     "execution_count": 38,
     "metadata": {},
     "output_type": "execute_result"
    }
   ],
   "source": [
    "type(name)"
   ]
  },
  {
   "cell_type": "code",
   "execution_count": 39,
   "metadata": {},
   "outputs": [
    {
     "name": "stdout",
     "output_type": "stream",
     "text": [
      "6 papaya\n"
     ]
    }
   ],
   "source": [
    "print(num,name)"
   ]
  },
  {
   "cell_type": "markdown",
   "metadata": {},
   "source": [
    "#### operators"
   ]
  },
  {
   "cell_type": "markdown",
   "metadata": {},
   "source": [
    "1. Arithmetic operators:-\n",
    " \n",
    "       +, -, *, /, %\n",
    "2. Logical operators:-\n",
    "\n",
    "        and, or, not\n",
    "3. Conditional operators:-\n",
    "\n",
    "        <, >, <=, >=, ==, !=\n",
    "4. Misc operators:-\n",
    "\n",
    "        not in, is, in "
   ]
  },
  {
   "cell_type": "markdown",
   "metadata": {},
   "source": [
    "#### If-else"
   ]
  },
  {
   "cell_type": "code",
   "execution_count": 45,
   "metadata": {},
   "outputs": [
    {
     "name": "stdout",
     "output_type": "stream",
     "text": [
      "Enter the numerical value : 78\n",
      "even\n"
     ]
    }
   ],
   "source": [
    "num = int(input(\"Enter the numerical value : \"))\n",
    "if num %2 == 0: \n",
    "    print(\"even\")\n",
    "else:\n",
    "    print(\"odd\")"
   ]
  },
  {
   "cell_type": "markdown",
   "metadata": {},
   "source": [
    "#### If-elif-else"
   ]
  },
  {
   "cell_type": "code",
   "execution_count": 50,
   "metadata": {},
   "outputs": [
    {
     "name": "stdout",
     "output_type": "stream",
     "text": [
      "Enter the numerical value : j\n"
     ]
    },
    {
     "ename": "ValueError",
     "evalue": "invalid literal for int() with base 10: 'j'",
     "output_type": "error",
     "traceback": [
      "\u001b[0;31m---------------------------------------------------------------------------\u001b[0m",
      "\u001b[0;31mValueError\u001b[0m                                Traceback (most recent call last)",
      "\u001b[0;32m<ipython-input-50-fe2d0ce71de6>\u001b[0m in \u001b[0;36m<module>\u001b[0;34m()\u001b[0m\n\u001b[0;32m----> 1\u001b[0;31m \u001b[0mnum\u001b[0m \u001b[0;34m=\u001b[0m \u001b[0mint\u001b[0m\u001b[0;34m(\u001b[0m\u001b[0minput\u001b[0m\u001b[0;34m(\u001b[0m\u001b[0;34m\"Enter the numerical value : \"\u001b[0m\u001b[0;34m)\u001b[0m\u001b[0;34m)\u001b[0m\u001b[0;34m\u001b[0m\u001b[0;34m\u001b[0m\u001b[0m\n\u001b[0m\u001b[1;32m      2\u001b[0m \u001b[0;32mif\u001b[0m \u001b[0mnum\u001b[0m \u001b[0;34m%\u001b[0m\u001b[0;36m4\u001b[0m \u001b[0;34m==\u001b[0m \u001b[0;36m0\u001b[0m\u001b[0;34m:\u001b[0m\u001b[0;34m\u001b[0m\u001b[0;34m\u001b[0m\u001b[0m\n\u001b[1;32m      3\u001b[0m     \u001b[0mprint\u001b[0m\u001b[0;34m(\u001b[0m\u001b[0;34m\"Divisible by 4 and even\"\u001b[0m\u001b[0;34m)\u001b[0m\u001b[0;34m\u001b[0m\u001b[0;34m\u001b[0m\u001b[0m\n\u001b[1;32m      4\u001b[0m \u001b[0;32melif\u001b[0m \u001b[0mnum\u001b[0m \u001b[0;34m%\u001b[0m\u001b[0;36m2\u001b[0m \u001b[0;34m==\u001b[0m \u001b[0;36m0\u001b[0m\u001b[0;34m:\u001b[0m\u001b[0;34m\u001b[0m\u001b[0;34m\u001b[0m\u001b[0m\n\u001b[1;32m      5\u001b[0m     \u001b[0mprint\u001b[0m\u001b[0;34m(\u001b[0m\u001b[0;34m\"Even\"\u001b[0m\u001b[0;34m)\u001b[0m\u001b[0;34m\u001b[0m\u001b[0;34m\u001b[0m\u001b[0m\n",
      "\u001b[0;31mValueError\u001b[0m: invalid literal for int() with base 10: 'j'"
     ]
    }
   ],
   "source": [
    "num = int(input(\"Enter the numerical value : \"))\n",
    "if num %4 == 0:\n",
    "    print(\"Divisible by 4 and even\")\n",
    "elif num %2 == 0:\n",
    "    print(\"Even\")\n",
    "else:\n",
    "    print(\"Odd\")"
   ]
  },
  {
   "cell_type": "code",
   "execution_count": 57,
   "metadata": {},
   "outputs": [
    {
     "name": "stdout",
     "output_type": "stream",
     "text": [
      "Enter any fruit name : 5\n",
      "Invalid fruit name\n"
     ]
    }
   ],
   "source": [
    "name = input(\"Enter any fruit name : \")\n",
    "if name == \"apple\":\n",
    "    print(\"color is red\")\n",
    "elif name == \"papaya\" or name == 'orange':\n",
    "    print(\"color is orange\")\n",
    "elif name == \"banana\" or name == \"lemon\":\n",
    "    print(\"color is yellow\")\n",
    "elif name == \"grapes\":\n",
    "    print(\"color is green or violet\")\n",
    "else:\n",
    "    print(\"Invalid fruit name\")"
   ]
  },
  {
   "cell_type": "markdown",
   "metadata": {},
   "source": [
    "Weekly task\n",
    "\n",
    "1. Rock, paper and scissor game\n",
    "        rock beats scissor\n",
    "        paper beats rock\n",
    "        scissor beats paper\n",
    "        \n",
    "2. Two dice game\n",
    "        if 7 or 11 is a sum value\n",
    "        if sum is even number \n",
    "        if 1 and 5 in both dice\n",
    "        "
   ]
  },
  {
   "cell_type": "code",
   "execution_count": null,
   "metadata": {},
   "outputs": [],
   "source": [
    "a. circle\n",
    "b. rectangle\n",
    "c. triangle"
   ]
  },
  {
   "cell_type": "code",
   "execution_count": 59,
   "metadata": {},
   "outputs": [
    {
     "data": {
      "text/plain": [
       "5.0"
      ]
     },
     "execution_count": 59,
     "metadata": {},
     "output_type": "execute_result"
    }
   ],
   "source": [
    "1/2*(5*2)"
   ]
  },
  {
   "cell_type": "code",
   "execution_count": null,
   "metadata": {},
   "outputs": [],
   "source": [
    "0.2%f"
   ]
  }
 ],
 "metadata": {
  "kernelspec": {
   "display_name": "Python 3",
   "language": "python",
   "name": "python3"
  },
  "language_info": {
   "codemirror_mode": {
    "name": "ipython",
    "version": 3
   },
   "file_extension": ".py",
   "mimetype": "text/x-python",
   "name": "python",
   "nbconvert_exporter": "python",
   "pygments_lexer": "ipython3",
   "version": "3.6.7"
  },
  "toc": {
   "base_numbering": 1,
   "nav_menu": {},
   "number_sections": true,
   "sideBar": true,
   "skip_h1_title": false,
   "title_cell": "Table of Contents",
   "title_sidebar": "Contents",
   "toc_cell": false,
   "toc_position": {},
   "toc_section_display": true,
   "toc_window_display": false
  },
  "varInspector": {
   "cols": {
    "lenName": 16,
    "lenType": 16,
    "lenVar": 40
   },
   "kernels_config": {
    "python": {
     "delete_cmd_postfix": "",
     "delete_cmd_prefix": "del ",
     "library": "var_list.py",
     "varRefreshCmd": "print(var_dic_list())"
    },
    "r": {
     "delete_cmd_postfix": ") ",
     "delete_cmd_prefix": "rm(",
     "library": "var_list.r",
     "varRefreshCmd": "cat(var_dic_list()) "
    }
   },
   "types_to_exclude": [
    "module",
    "function",
    "builtin_function_or_method",
    "instance",
    "_Feature"
   ],
   "window_display": false
  }
 },
 "nbformat": 4,
 "nbformat_minor": 2
}
