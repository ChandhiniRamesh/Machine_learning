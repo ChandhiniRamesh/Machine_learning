{
 "cells": [
  {
   "cell_type": "code",
   "execution_count": 2,
   "metadata": {},
   "outputs": [
    {
     "name": "stdout",
     "output_type": "stream",
     "text": [
      "15\n"
     ]
    }
   ],
   "source": [
    "a = 10\n",
    "b = 5\n",
    "print(a+b)"
   ]
  },
  {
   "cell_type": "markdown",
   "metadata": {},
   "source": [
    "### Data types / variables"
   ]
  },
  {
   "cell_type": "code",
   "execution_count": 3,
   "metadata": {},
   "outputs": [],
   "source": [
    "a = 5  # int\n",
    "f = 3.14  # float\n",
    "s = 'apple'  # string\n",
    "b = True  # bool"
   ]
  },
  {
   "cell_type": "markdown",
   "metadata": {},
   "source": [
    "### print function"
   ]
  },
  {
   "cell_type": "code",
   "execution_count": 5,
   "metadata": {},
   "outputs": [
    {
     "name": "stdout",
     "output_type": "stream",
     "text": [
      "<class 'int'>\n",
      "<class 'float'>\n",
      "<class 'str'>\n",
      "<class 'bool'>\n"
     ]
    }
   ],
   "source": [
    "print(type(a))\n",
    "print(type(f))\n",
    "print(type(s))\n",
    "print(type(b))"
   ]
  },
  {
   "cell_type": "code",
   "execution_count": 6,
   "metadata": {},
   "outputs": [
    {
     "name": "stdout",
     "output_type": "stream",
     "text": [
      "3.14\n"
     ]
    }
   ],
   "source": [
    "print(f)"
   ]
  },
  {
   "cell_type": "code",
   "execution_count": 7,
   "metadata": {},
   "outputs": [
    {
     "name": "stdout",
     "output_type": "stream",
     "text": [
      "123456\n"
     ]
    }
   ],
   "source": [
    "print(123456)"
   ]
  },
  {
   "cell_type": "code",
   "execution_count": 8,
   "metadata": {},
   "outputs": [
    {
     "name": "stdout",
     "output_type": "stream",
     "text": [
      "hello world\n"
     ]
    }
   ],
   "source": [
    "print('hello world')"
   ]
  },
  {
   "cell_type": "markdown",
   "metadata": {},
   "source": [
    "#### various methods of print "
   ]
  },
  {
   "cell_type": "code",
   "execution_count": 9,
   "metadata": {},
   "outputs": [],
   "source": [
    "# hello apple\n",
    "# hello 5"
   ]
  },
  {
   "cell_type": "code",
   "execution_count": 13,
   "metadata": {},
   "outputs": [
    {
     "name": "stdout",
     "output_type": "stream",
     "text": [
      "Method - 1\n",
      "hello apple\n",
      "hello 5\n",
      "------------------------\n",
      "Method - 2\n",
      "hello apple\n",
      "hello 5\n",
      "------------------------\n",
      "Method - 3\n",
      "hello apple\n",
      "hello 5\n",
      "------------------------\n",
      "Method - 4\n",
      "hello apple\n",
      "hello 5\n",
      "------------------------\n"
     ]
    }
   ],
   "source": [
    "print(\"Method - 1\")\n",
    "print(\"hello\",s)\n",
    "print(\"hello\",a)\n",
    "print(\"------------------------\")\n",
    "\n",
    "print(\"Method - 2\")\n",
    "print(\"hello \" + s)\n",
    "print(\"hello \" + str(a))\n",
    "print(\"------------------------\")\n",
    "\n",
    "print(\"Method - 3\")\n",
    "print(\"hello %s\"%s)\n",
    "print(\"hello %d\"%a)\n",
    "print(\"------------------------\")\n",
    "\n",
    "print(\"Method - 4\")\n",
    "print(\"hello {}\".format(s))\n",
    "print(\"hello {}\".format(a))\n",
    "print(\"------------------------\")"
   ]
  },
  {
   "cell_type": "code",
   "execution_count": 14,
   "metadata": {},
   "outputs": [],
   "source": [
    "# i bought 3kgs of mango for 110.5Rs.\n",
    "\n",
    "m = \"mango\"\n",
    "w = 3\n",
    "p = 110.5"
   ]
  },
  {
   "cell_type": "code",
   "execution_count": 16,
   "metadata": {},
   "outputs": [
    {
     "name": "stdout",
     "output_type": "stream",
     "text": [
      "i bought 3 kgs of mango for 110.5 Rs.\n",
      "i bought 3kgs of mango for 110.5Rs.\n",
      "i bought 3kgs of mango for 110.5Rs.\n",
      "i bought 3kgs of mango for 110.5Rs.\n"
     ]
    }
   ],
   "source": [
    "print(\"i bought\",w,'kgs of',m,'for',p,'Rs.')\n",
    "print(\"i bought \"+str(w)+'kgs of '+m+' for '+str(p)+'Rs.')\n",
    "print(\"i bought %dkgs of %s for %0.1fRs.\"%(w,m,p))\n",
    "print(\"i bought {}kgs of {} for {}Rs.\".format(w,m,p))"
   ]
  },
  {
   "cell_type": "markdown",
   "metadata": {},
   "source": [
    "### operators"
   ]
  },
  {
   "cell_type": "markdown",
   "metadata": {},
   "source": [
    "<ol>\n",
    "<li>Arithmetic Operators</li>\n",
    "        \n",
    "        + - * / %  //\n",
    "<li>Conditional Operators</li>\n",
    "        \n",
    "        < > <= >= == !=\n",
    "<li>Logical Operators</li>\n",
    "    \n",
    "        and not or\n",
    "<li>Misc Operators</li>\n",
    "\n",
    "        is in not in\n",
    "\n",
    "</ol>\n"
   ]
  },
  {
   "cell_type": "markdown",
   "metadata": {},
   "source": [
    "### Type casting"
   ]
  },
  {
   "cell_type": "markdown",
   "metadata": {},
   "source": [
    "#### integer to string \n",
    "\n",
    "    str(5)\n",
    "    \n",
    "#### string to integer\n",
    "\n",
    "    int('5')\n",
    "\n",
    "#### float to string\n",
    "\n",
    "    str(3.14)\n",
    "    \n",
    "#### string to float\n",
    "\n",
    "    float('3.14')"
   ]
  },
  {
   "cell_type": "markdown",
   "metadata": {},
   "source": [
    "### Task-1"
   ]
  },
  {
   "cell_type": "markdown",
   "metadata": {},
   "source": [
    "write a python program that accepts an integer(n) and compute the value of n+nn+nnn\n",
    "\n",
    "Ex input : 5\n",
    "\n",
    "output : 555+55+5 = 615"
   ]
  },
  {
   "cell_type": "code",
   "execution_count": 32,
   "metadata": {},
   "outputs": [
    {
     "name": "stdout",
     "output_type": "stream",
     "text": [
      "615\n",
      "615\n",
      "615\n"
     ]
    }
   ],
   "source": [
    "n = '5'\n",
    "ans = int(n+n+n)+int(n+n)+int(n)\n",
    "print(ans)\n",
    "\n",
    "n = 5 \n",
    "ans2 = int(str(n)+str(n)+str(n))+int(str(n)+str(n))+n\n",
    "print(ans2)\n",
    "\n",
    "n = '5'\n",
    "ans3 = int(n*3)+int(n*2)+int(n)\n",
    "print(ans3)"
   ]
  },
  {
   "cell_type": "code",
   "execution_count": null,
   "metadata": {},
   "outputs": [],
   "source": []
  }
 ],
 "metadata": {
  "kernelspec": {
   "display_name": "Python 3",
   "language": "python",
   "name": "python3"
  },
  "language_info": {
   "codemirror_mode": {
    "name": "ipython",
    "version": 3
   },
   "file_extension": ".py",
   "mimetype": "text/x-python",
   "name": "python",
   "nbconvert_exporter": "python",
   "pygments_lexer": "ipython3",
   "version": "3.6.8"
  },
  "toc": {
   "base_numbering": 1,
   "nav_menu": {},
   "number_sections": true,
   "sideBar": true,
   "skip_h1_title": false,
   "title_cell": "Table of Contents",
   "title_sidebar": "Contents",
   "toc_cell": false,
   "toc_position": {},
   "toc_section_display": true,
   "toc_window_display": false
  },
  "varInspector": {
   "cols": {
    "lenName": 16,
    "lenType": 16,
    "lenVar": 40
   },
   "kernels_config": {
    "python": {
     "delete_cmd_postfix": "",
     "delete_cmd_prefix": "del ",
     "library": "var_list.py",
     "varRefreshCmd": "print(var_dic_list())"
    },
    "r": {
     "delete_cmd_postfix": ") ",
     "delete_cmd_prefix": "rm(",
     "library": "var_list.r",
     "varRefreshCmd": "cat(var_dic_list()) "
    }
   },
   "types_to_exclude": [
    "module",
    "function",
    "builtin_function_or_method",
    "instance",
    "_Feature"
   ],
   "window_display": false
  }
 },
 "nbformat": 4,
 "nbformat_minor": 2
}
