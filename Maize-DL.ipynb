{
 "cells": [
  {
   "cell_type": "markdown",
   "metadata": {},
   "source": [
    "## Vanilla Neural Network"
   ]
  },
  {
   "cell_type": "markdown",
   "metadata": {},
   "source": [
    "### Importing libs"
   ]
  },
  {
   "cell_type": "code",
   "execution_count": 38,
   "metadata": {},
   "outputs": [],
   "source": [
    "from keras.datasets import mnist\n",
    "from keras.layers.core import Dense, Dropout, Activation\n",
    "from keras.models import Sequential\n",
    "from keras.optimizers import RMSprop,SGD,Adam\n",
    "from keras.utils import np_utils\n",
    "import matplotlib.pyplot as plt\n",
    "import cv2\n",
    "from keras_preprocessing.image import img_to_array\n",
    "import tensorflow as tf\n",
    "from keras.models import load_model"
   ]
  },
  {
   "cell_type": "markdown",
   "metadata": {},
   "source": [
    "### load datasets"
   ]
  },
  {
   "cell_type": "code",
   "execution_count": 2,
   "metadata": {},
   "outputs": [],
   "source": [
    "(X_train, y_train), (X_test, y_test) = mnist.load_data()"
   ]
  },
  {
   "cell_type": "code",
   "execution_count": 3,
   "metadata": {},
   "outputs": [
    {
     "data": {
      "text/plain": [
       "(60000, 28, 28)"
      ]
     },
     "execution_count": 3,
     "metadata": {},
     "output_type": "execute_result"
    }
   ],
   "source": [
    "X_train.shape"
   ]
  },
  {
   "cell_type": "code",
   "execution_count": 4,
   "metadata": {},
   "outputs": [
    {
     "data": {
      "text/plain": [
       "(10000, 28, 28)"
      ]
     },
     "execution_count": 4,
     "metadata": {},
     "output_type": "execute_result"
    }
   ],
   "source": [
    "X_test.shape"
   ]
  },
  {
   "cell_type": "markdown",
   "metadata": {},
   "source": [
    "### preprocessing input data"
   ]
  },
  {
   "cell_type": "code",
   "execution_count": 5,
   "metadata": {},
   "outputs": [
    {
     "name": "stdout",
     "output_type": "stream",
     "text": [
      "(60000, 784) train samples\n",
      "(10000, 784) test samples\n"
     ]
    }
   ],
   "source": [
    "RESHAPED = 784\n",
    "\n",
    "X_train = X_train.reshape(60000, RESHAPED)\n",
    "X_test = X_test.reshape(10000, RESHAPED)\n",
    "X_train = X_train.astype('float32')\n",
    "X_test = X_test.astype('float32')\n",
    "\n",
    "X_train /= 255\n",
    "X_test /= 255\n",
    "\n",
    "print(X_train.shape, 'train samples')\n",
    "print(X_test.shape, 'test samples')"
   ]
  },
  {
   "cell_type": "markdown",
   "metadata": {},
   "source": [
    "###  preprocessing output data"
   ]
  },
  {
   "cell_type": "code",
   "execution_count": 6,
   "metadata": {},
   "outputs": [
    {
     "data": {
      "text/plain": [
       "array([5, 0, 4, 1, 9], dtype=uint8)"
      ]
     },
     "execution_count": 6,
     "metadata": {},
     "output_type": "execute_result"
    }
   ],
   "source": [
    "y_train[:5]"
   ]
  },
  {
   "cell_type": "code",
   "execution_count": 7,
   "metadata": {},
   "outputs": [],
   "source": [
    "Y_train = np_utils.to_categorical(y_train, len(set(y_train)))\n",
    "Y_test = np_utils.to_categorical(y_test, len(set(y_train)))"
   ]
  },
  {
   "cell_type": "code",
   "execution_count": 8,
   "metadata": {},
   "outputs": [
    {
     "data": {
      "text/plain": [
       "array([[0., 0., 0., 0., 0., 1., 0., 0., 0., 0.],\n",
       "       [1., 0., 0., 0., 0., 0., 0., 0., 0., 0.],\n",
       "       [0., 0., 0., 0., 1., 0., 0., 0., 0., 0.],\n",
       "       [0., 1., 0., 0., 0., 0., 0., 0., 0., 0.],\n",
       "       [0., 0., 0., 0., 0., 0., 0., 0., 0., 1.]], dtype=float32)"
      ]
     },
     "execution_count": 8,
     "metadata": {},
     "output_type": "execute_result"
    }
   ],
   "source": [
    "Y_train[:5]"
   ]
  },
  {
   "cell_type": "markdown",
   "metadata": {},
   "source": [
    "### initializing the parameters"
   ]
  },
  {
   "cell_type": "code",
   "execution_count": 29,
   "metadata": {},
   "outputs": [],
   "source": [
    "NB_EPOCH = 30  # epoch -> iterations -> 20 to 200\n",
    "BATCH_SIZE = 128 # multiples of 64\n",
    "VERBOSE = 1 \n",
    "NB_CLASSES = 10 # output classes\n",
    "\n",
    "OPTIMIZER = RMSprop()\n",
    "N_HIDDEN = 128  # multiples of 64\n",
    "VALIDATION_SPLIT = 0.1\n",
    "\n",
    "DROPOUT = 0.1\n",
    "graph = tf.get_default_graph()"
   ]
  },
  {
   "cell_type": "markdown",
   "metadata": {},
   "source": [
    "### model defining"
   ]
  },
  {
   "cell_type": "code",
   "execution_count": 10,
   "metadata": {},
   "outputs": [],
   "source": [
    "# # simple architecture\n",
    "# model = Sequential()\n",
    "\n",
    "# model.add(Dense(NB_CLASSES, input_shape=(RESHAPED,)))\n",
    "# model.add(Activation('relu'))\n",
    "\n",
    "\n",
    "# model.compile(loss='categorical_crossentropy', optimizer=OPTIMIZER, metrics=['accuracy'])\n",
    "# model.summary()"
   ]
  },
  {
   "cell_type": "code",
   "execution_count": 11,
   "metadata": {},
   "outputs": [],
   "source": [
    "# # with hidden layers \n",
    "# model = Sequential()\n",
    "# model.add(Dense(N_HIDDEN, input_shape=(RESHAPED,)))\n",
    "# model.add(Activation('relu'))\n",
    "# model.add(Dense(N_HIDDEN))\n",
    "# model.add(Activation('relu'))\n",
    "# model.add(Dense(NB_CLASSES))\n",
    "# model.add(Activation('softmax'))\n",
    "\n",
    "# model.compile(loss='categorical_crossentropy', optimizer=OPTIMIZER, metrics=['accuracy'])\n",
    "# model.summary()"
   ]
  },
  {
   "cell_type": "code",
   "execution_count": 12,
   "metadata": {},
   "outputs": [
    {
     "name": "stdout",
     "output_type": "stream",
     "text": [
      "WARNING:tensorflow:From /usr/local/lib/python3.6/dist-packages/keras/backend/tensorflow_backend.py:3368: calling dropout (from tensorflow.python.ops.nn_ops) with keep_prob is deprecated and will be removed in a future version.\n",
      "Instructions for updating:\n",
      "Please use `rate` instead of `keep_prob`. Rate should be set to `rate = 1 - keep_prob`.\n",
      "_________________________________________________________________\n",
      "Layer (type)                 Output Shape              Param #   \n",
      "=================================================================\n",
      "dense_1 (Dense)              (None, 128)               100480    \n",
      "_________________________________________________________________\n",
      "activation_1 (Activation)    (None, 128)               0         \n",
      "_________________________________________________________________\n",
      "dropout_1 (Dropout)          (None, 128)               0         \n",
      "_________________________________________________________________\n",
      "dense_2 (Dense)              (None, 128)               16512     \n",
      "_________________________________________________________________\n",
      "activation_2 (Activation)    (None, 128)               0         \n",
      "_________________________________________________________________\n",
      "dropout_2 (Dropout)          (None, 128)               0         \n",
      "_________________________________________________________________\n",
      "dense_3 (Dense)              (None, 10)                1290      \n",
      "_________________________________________________________________\n",
      "activation_3 (Activation)    (None, 10)                0         \n",
      "=================================================================\n",
      "Total params: 118,282\n",
      "Trainable params: 118,282\n",
      "Non-trainable params: 0\n",
      "_________________________________________________________________\n"
     ]
    }
   ],
   "source": [
    "model = Sequential()\n",
    "model.add(Dense(N_HIDDEN, input_shape=(RESHAPED,)))\n",
    "model.add(Activation('relu'))\n",
    "model.add(Dropout(DROPOUT))\n",
    "model.add(Dense(N_HIDDEN))\n",
    "model.add(Activation('relu'))\n",
    "model.add(Dropout(DROPOUT))\n",
    "model.add(Dense(NB_CLASSES))\n",
    "model.add(Activation('softmax'))\n",
    "\n",
    "model.compile(loss='categorical_crossentropy', optimizer=OPTIMIZER, metrics=['accuracy'])\n",
    "model.summary()"
   ]
  },
  {
   "cell_type": "markdown",
   "metadata": {},
   "source": [
    "### training"
   ]
  },
  {
   "cell_type": "code",
   "execution_count": 13,
   "metadata": {},
   "outputs": [
    {
     "name": "stdout",
     "output_type": "stream",
     "text": [
      "WARNING:tensorflow:From /usr/local/lib/python3.6/dist-packages/tensorflow/python/ops/math_ops.py:3066: to_int32 (from tensorflow.python.ops.math_ops) is deprecated and will be removed in a future version.\n",
      "Instructions for updating:\n",
      "Use tf.cast instead.\n",
      "Train on 54000 samples, validate on 6000 samples\n",
      "Epoch 1/30\n",
      "54000/54000 [==============================] - 3s 59us/step - loss: 0.3548 - acc: 0.8940 - val_loss: 0.1321 - val_acc: 0.9613\n",
      "Epoch 2/30\n",
      "54000/54000 [==============================] - 3s 52us/step - loss: 0.1543 - acc: 0.9535 - val_loss: 0.1065 - val_acc: 0.9653\n",
      "Epoch 3/30\n",
      "54000/54000 [==============================] - 3s 54us/step - loss: 0.1129 - acc: 0.9658 - val_loss: 0.0853 - val_acc: 0.9747\n",
      "Epoch 4/30\n",
      "54000/54000 [==============================] - 3s 54us/step - loss: 0.0893 - acc: 0.9728 - val_loss: 0.0792 - val_acc: 0.9763\n",
      "Epoch 5/30\n",
      "54000/54000 [==============================] - 3s 53us/step - loss: 0.0760 - acc: 0.9776 - val_loss: 0.0730 - val_acc: 0.9770\n",
      "Epoch 6/30\n",
      "54000/54000 [==============================] - 3s 54us/step - loss: 0.0660 - acc: 0.9795 - val_loss: 0.0710 - val_acc: 0.9787\n",
      "Epoch 7/30\n",
      "54000/54000 [==============================] - 3s 54us/step - loss: 0.0567 - acc: 0.9823 - val_loss: 0.0729 - val_acc: 0.9773\n",
      "Epoch 8/30\n",
      "54000/54000 [==============================] - 3s 55us/step - loss: 0.0516 - acc: 0.9840 - val_loss: 0.0775 - val_acc: 0.9790\n",
      "Epoch 9/30\n",
      "54000/54000 [==============================] - 3s 55us/step - loss: 0.0456 - acc: 0.9856 - val_loss: 0.0787 - val_acc: 0.9785\n",
      "Epoch 10/30\n",
      "54000/54000 [==============================] - 3s 52us/step - loss: 0.0425 - acc: 0.9868 - val_loss: 0.0683 - val_acc: 0.9827\n",
      "Epoch 11/30\n",
      "54000/54000 [==============================] - 3s 52us/step - loss: 0.0395 - acc: 0.9875 - val_loss: 0.0800 - val_acc: 0.9802\n",
      "Epoch 12/30\n",
      "54000/54000 [==============================] - 3s 51us/step - loss: 0.0347 - acc: 0.9885 - val_loss: 0.0768 - val_acc: 0.9817\n",
      "Epoch 13/30\n",
      "54000/54000 [==============================] - 3s 52us/step - loss: 0.0319 - acc: 0.9898 - val_loss: 0.0822 - val_acc: 0.9823\n",
      "Epoch 14/30\n",
      "54000/54000 [==============================] - 3s 52us/step - loss: 0.0327 - acc: 0.9895 - val_loss: 0.0807 - val_acc: 0.9820\n",
      "Epoch 15/30\n",
      "54000/54000 [==============================] - 3s 53us/step - loss: 0.0286 - acc: 0.9913 - val_loss: 0.0886 - val_acc: 0.9805\n",
      "Epoch 16/30\n",
      "54000/54000 [==============================] - 3s 52us/step - loss: 0.0280 - acc: 0.9914 - val_loss: 0.0864 - val_acc: 0.9827\n",
      "Epoch 17/30\n",
      "54000/54000 [==============================] - 3s 51us/step - loss: 0.0265 - acc: 0.9915 - val_loss: 0.0905 - val_acc: 0.9827\n",
      "Epoch 18/30\n",
      "54000/54000 [==============================] - 3s 54us/step - loss: 0.0259 - acc: 0.9919 - val_loss: 0.0852 - val_acc: 0.9817\n",
      "Epoch 19/30\n",
      "54000/54000 [==============================] - 3s 51us/step - loss: 0.0253 - acc: 0.9919 - val_loss: 0.0835 - val_acc: 0.9822\n",
      "Epoch 20/30\n",
      "54000/54000 [==============================] - 3s 52us/step - loss: 0.0220 - acc: 0.9931 - val_loss: 0.0944 - val_acc: 0.9818\n",
      "Epoch 21/30\n",
      "54000/54000 [==============================] - 3s 52us/step - loss: 0.0206 - acc: 0.9933 - val_loss: 0.1019 - val_acc: 0.9807\n",
      "Epoch 22/30\n",
      "54000/54000 [==============================] - 3s 53us/step - loss: 0.0196 - acc: 0.9937 - val_loss: 0.1035 - val_acc: 0.9800\n",
      "Epoch 23/30\n",
      "54000/54000 [==============================] - 3s 52us/step - loss: 0.0209 - acc: 0.9935 - val_loss: 0.1009 - val_acc: 0.9810\n",
      "Epoch 24/30\n",
      "54000/54000 [==============================] - 3s 52us/step - loss: 0.0203 - acc: 0.9936 - val_loss: 0.0940 - val_acc: 0.9825\n",
      "Epoch 25/30\n",
      "54000/54000 [==============================] - 3s 53us/step - loss: 0.0198 - acc: 0.9940 - val_loss: 0.0963 - val_acc: 0.9833\n",
      "Epoch 26/30\n",
      "54000/54000 [==============================] - 3s 52us/step - loss: 0.0188 - acc: 0.9942 - val_loss: 0.0966 - val_acc: 0.9815\n",
      "Epoch 27/30\n",
      "54000/54000 [==============================] - 3s 52us/step - loss: 0.0180 - acc: 0.9946 - val_loss: 0.0949 - val_acc: 0.9835\n",
      "Epoch 28/30\n",
      "54000/54000 [==============================] - 3s 51us/step - loss: 0.0165 - acc: 0.9947 - val_loss: 0.1137 - val_acc: 0.9805\n",
      "Epoch 29/30\n",
      "54000/54000 [==============================] - 3s 52us/step - loss: 0.0185 - acc: 0.9943 - val_loss: 0.1027 - val_acc: 0.9830\n",
      "Epoch 30/30\n",
      "54000/54000 [==============================] - 3s 52us/step - loss: 0.0188 - acc: 0.9941 - val_loss: 0.1121 - val_acc: 0.9810\n"
     ]
    }
   ],
   "source": [
    "history = model.fit(X_train, Y_train, batch_size=BATCH_SIZE, epochs=NB_EPOCH,verbose=VERBOSE, validation_split=VALIDATION_SPLIT)\n"
   ]
  },
  {
   "cell_type": "markdown",
   "metadata": {},
   "source": [
    "### testing"
   ]
  },
  {
   "cell_type": "code",
   "execution_count": 14,
   "metadata": {},
   "outputs": [
    {
     "name": "stdout",
     "output_type": "stream",
     "text": [
      "10000/10000 [==============================] - 0s 46us/step\n",
      "Test accuracy: 0.9812\n"
     ]
    }
   ],
   "source": [
    "score = model.evaluate(X_test, Y_test, verbose=VERBOSE)\n",
    "print('Test accuracy:', score[1])"
   ]
  },
  {
   "cell_type": "markdown",
   "metadata": {},
   "source": [
    "### results visualization"
   ]
  },
  {
   "cell_type": "code",
   "execution_count": 15,
   "metadata": {},
   "outputs": [
    {
     "data": {
      "image/png": "[encoded data removed]",
      "text/plain": [
       "<Figure size 432x288 with 1 Axes>"
      ]
     },
     "metadata": {},
     "output_type": "display_data"
    },
    {
     "data": {
      "image/png": "[encoded data removed]",
      "text/plain": [
       "<Figure size 432x288 with 1 Axes>"
      ]
     },
     "metadata": {},
     "output_type": "display_data"
    }
   ],
   "source": [
    "plt.plot(history.history['acc'])\n",
    "plt.plot(history.history['val_acc'])\n",
    "plt.title('model accuracy')\n",
    "plt.ylabel('accuracy')\n",
    "plt.xlabel('epoch')\n",
    "plt.legend(['train', 'test'], loc='upper left')\n",
    "plt.show()\n",
    "\n",
    "plt.plot(history.history['loss'])\n",
    "plt.plot(history.history['val_loss'])\n",
    "plt.title('model loss')\n",
    "plt.ylabel('loss')\n",
    "plt.xlabel('epoch')\n",
    "plt.legend(['train', 'test'], loc='upper left')\n",
    "plt.show()"
   ]
  },
  {
   "cell_type": "markdown",
   "metadata": {},
   "source": [
    "### saving model"
   ]
  },
  {
   "cell_type": "code",
   "execution_count": 16,
   "metadata": {},
   "outputs": [],
   "source": [
    "# method-1\n",
    "model_json = model.to_json()\n",
    "open('Maize-DL_architecture.json', 'w').write(model_json)\n",
    "model.save_weights('Maize-DL_weights.h5', overwrite=True)"
   ]
  },
  {
   "cell_type": "code",
   "execution_count": 17,
   "metadata": {},
   "outputs": [],
   "source": [
    "# method-2\n",
    "model.save(\"./Deep_Learning/DL-Maize.model\")"
   ]
  },
  {
   "cell_type": "markdown",
   "metadata": {},
   "source": [
    "### Real-time prediction"
   ]
  },
  {
   "cell_type": "code",
   "execution_count": 18,
   "metadata": {},
   "outputs": [],
   "source": [
    "img = cv2.imread(\"./Deep_Learning/zeros.png\",0)"
   ]
  },
  {
   "cell_type": "code",
   "execution_count": 19,
   "metadata": {},
   "outputs": [
    {
     "data": {
      "image/png": "[encoded data removed]",
      "text/plain": [
       "<Figure size 432x288 with 1 Axes>"
      ]
     },
     "metadata": {},
     "output_type": "display_data"
    }
   ],
   "source": [
    "plt.imshow(img)\n",
    "plt.show()"
   ]
  },
  {
   "cell_type": "code",
   "execution_count": 20,
   "metadata": {},
   "outputs": [],
   "source": [
    "img = cv2.resize(img,(28,28))"
   ]
  },
  {
   "cell_type": "code",
   "execution_count": 21,
   "metadata": {},
   "outputs": [],
   "source": [
    "img = img_to_array(img)"
   ]
  },
  {
   "cell_type": "code",
   "execution_count": 22,
   "metadata": {},
   "outputs": [],
   "source": [
    "img = np.expand_dims(img,axis=0)"
   ]
  },
  {
   "cell_type": "code",
   "execution_count": 23,
   "metadata": {},
   "outputs": [],
   "source": [
    "img=img.reshape(1,784)"
   ]
  },
  {
   "cell_type": "code",
   "execution_count": 24,
   "metadata": {},
   "outputs": [
    {
     "data": {
      "text/plain": [
       "(1, 784)"
      ]
     },
     "execution_count": 24,
     "metadata": {},
     "output_type": "execute_result"
    }
   ],
   "source": [
    "img.shape"
   ]
  },
  {
   "cell_type": "code",
   "execution_count": 39,
   "metadata": {},
   "outputs": [],
   "source": [
    "LoadedModel = load_model(\"./Deep_Learning/DL-Maize.model\")"
   ]
  },
  {
   "cell_type": "code",
   "execution_count": 40,
   "metadata": {},
   "outputs": [
    {
     "data": {
      "text/plain": [
       "array([[0., 0., 1., 0., 0., 0., 0., 0., 0., 0.]], dtype=float32)"
      ]
     },
     "execution_count": 40,
     "metadata": {},
     "output_type": "execute_result"
    }
   ],
   "source": [
    "LoadedModel.predict([img])"
   ]
  },
  {
   "cell_type": "code",
   "execution_count": 41,
   "metadata": {},
   "outputs": [
    {
     "data": {
      "text/plain": [
       "2"
      ]
     },
     "execution_count": 41,
     "metadata": {},
     "output_type": "execute_result"
    }
   ],
   "source": [
    "LoadedModel.predict_classes([img])[0]"
   ]
  },
  {
   "cell_type": "code",
   "execution_count": 42,
   "metadata": {},
   "outputs": [
    {
     "data": {
      "text/plain": [
       "array([[0., 0., 1., 0., 0., 0., 0., 0., 0., 0.]], dtype=float32)"
      ]
     },
     "execution_count": 42,
     "metadata": {},
     "output_type": "execute_result"
    }
   ],
   "source": [
    "LoadedModel.predict_proba([img])"
   ]
  },
  {
   "cell_type": "code",
   "execution_count": null,
   "metadata": {},
   "outputs": [],
   "source": []
  }
 ],
 "metadata": {
  "kernelspec": {
   "display_name": "Python 3",
   "language": "python",
   "name": "python3"
  },
  "language_info": {
   "codemirror_mode": {
    "name": "ipython",
    "version": 3
   },
   "file_extension": ".py",
   "mimetype": "text/x-python",
   "name": "python",
   "nbconvert_exporter": "python",
   "pygments_lexer": "ipython3",
   "version": "3.6.8"
  },
  "toc": {
   "base_numbering": 1,
   "nav_menu": {},
   "number_sections": true,
   "sideBar": true,
   "skip_h1_title": false,
   "title_cell": "Table of Contents",
   "title_sidebar": "Contents",
   "toc_cell": false,
   "toc_position": {},
   "toc_section_display": true,
   "toc_window_display": false
  },
  "varInspector": {
   "cols": {
    "lenName": 16,
    "lenType": 16,
    "lenVar": 40
   },
   "kernels_config": {
    "python": {
     "delete_cmd_postfix": "",
     "delete_cmd_prefix": "del ",
     "library": "var_list.py",
     "varRefreshCmd": "print(var_dic_list())"
    },
    "r": {
     "delete_cmd_postfix": ") ",
     "delete_cmd_prefix": "rm(",
     "library": "var_list.r",
     "varRefreshCmd": "cat(var_dic_list()) "
    }
   },
   "types_to_exclude": [
    "module",
    "function",
    "builtin_function_or_method",
    "instance",
    "_Feature"
   ],
   "window_display": false
  }
 },
 "nbformat": 4,
 "nbformat_minor": 2
}
