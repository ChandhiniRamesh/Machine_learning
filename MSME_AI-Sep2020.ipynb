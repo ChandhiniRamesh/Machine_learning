{
 "cells": [
  {
   "cell_type": "markdown",
   "metadata": {},
   "source": [
    "### Variable defining"
   ]
  },
  {
   "cell_type": "code",
   "execution_count": 1,
   "metadata": {},
   "outputs": [],
   "source": [
    "a = 5 # int\n",
    "b = 3.14 # float\n",
    "c = 'apple' # string\n",
    "d = True # bool"
   ]
  },
  {
   "cell_type": "code",
   "execution_count": 4,
   "metadata": {},
   "outputs": [
    {
     "name": "stdout",
     "output_type": "stream",
     "text": [
      "<class 'int'>\n",
      "<class 'float'>\n",
      "<class 'str'>\n",
      "<class 'bool'>\n"
     ]
    }
   ],
   "source": [
    "print(type(a))\n",
    "print(type(b))\n",
    "print(type(c))\n",
    "print(type(d))"
   ]
  },
  {
   "cell_type": "markdown",
   "metadata": {},
   "source": [
    "### print function"
   ]
  },
  {
   "cell_type": "code",
   "execution_count": 5,
   "metadata": {},
   "outputs": [
    {
     "name": "stdout",
     "output_type": "stream",
     "text": [
      "5\n"
     ]
    }
   ],
   "source": [
    "print(a)"
   ]
  },
  {
   "cell_type": "code",
   "execution_count": 6,
   "metadata": {},
   "outputs": [
    {
     "name": "stdout",
     "output_type": "stream",
     "text": [
      "12344\n"
     ]
    }
   ],
   "source": [
    "print(12344)"
   ]
  },
  {
   "cell_type": "code",
   "execution_count": 7,
   "metadata": {},
   "outputs": [
    {
     "name": "stdout",
     "output_type": "stream",
     "text": [
      "hello world!!!\n"
     ]
    }
   ],
   "source": [
    "print(\"hello world!!!\")"
   ]
  },
  {
   "cell_type": "code",
   "execution_count": 8,
   "metadata": {},
   "outputs": [],
   "source": [
    "# hello apple\n",
    "# hello 5"
   ]
  },
  {
   "cell_type": "code",
   "execution_count": 15,
   "metadata": {
    "scrolled": true
   },
   "outputs": [
    {
     "name": "stdout",
     "output_type": "stream",
     "text": [
      "hello apple\n",
      "hello 5\n",
      "\n",
      "hello apple\n",
      "hello 5\n",
      "\n",
      "hello apple\n",
      "hello 5\n",
      "\n",
      "hello apple\n",
      "hello apple\n",
      "hello 5\n"
     ]
    }
   ],
   "source": [
    "# method-1\n",
    "print(\"hello\",c)\n",
    "print(\"hello\",a)\n",
    "print()\n",
    "\n",
    "# method-2\n",
    "print(\"hello \"+c)\n",
    "print(\"hello \"+str(a))\n",
    "print()\n",
    "\n",
    "# method-3\n",
    "print(\"hello %s\"%c)\n",
    "print(\"hello %d\"%a)\n",
    "print()\n",
    "\n",
    "# method-4\n",
    "print(\"hello {}\".format(c))\n",
    "print(f\"hello {c}\")\n",
    "print(\"hello {}\".format(a))"
   ]
  },
  {
   "cell_type": "code",
   "execution_count": 16,
   "metadata": {},
   "outputs": [],
   "source": [
    "# I bought 3kgs of mango for 75.45Rs\n",
    "w = 3\n",
    "f = \"mango\"\n",
    "p = 75.45"
   ]
  },
  {
   "cell_type": "code",
   "execution_count": 19,
   "metadata": {},
   "outputs": [
    {
     "name": "stdout",
     "output_type": "stream",
     "text": [
      "I bought 3 kgs of mango for 75.45 Rs\n",
      "I bought 3kgs of mango for 75.45Rs\n",
      "I bought 3kgs of mango for 75.45Rs\n",
      "I bought 3kgs of mango for 75.45Rs\n",
      "I bought 3kgs of mango for 75.45Rs\n"
     ]
    }
   ],
   "source": [
    "print(\"I bought\",w,\"kgs of\",f,\"for\",p,\"Rs\")\n",
    "print(\"I bought \"+str(w)+\"kgs of \"+f+\" for \"+str(p)+\"Rs\")\n",
    "print(\"I bought %dkgs of %s for %0.2fRs\"%(w,f,p))\n",
    "print(\"I bought {}kgs of {} for {}Rs\".format(w,f,p))\n",
    "print(f\"I bought {w}kgs of {f} for {p}Rs\")\n"
   ]
  },
  {
   "cell_type": "markdown",
   "metadata": {},
   "source": [
    "### getting input from the user"
   ]
  },
  {
   "cell_type": "code",
   "execution_count": 34,
   "metadata": {},
   "outputs": [
    {
     "name": "stdout",
     "output_type": "stream",
     "text": [
      "Enter something.5\n"
     ]
    }
   ],
   "source": [
    "a = int(input(\"Enter something.\"))"
   ]
  },
  {
   "cell_type": "code",
   "execution_count": 35,
   "metadata": {},
   "outputs": [
    {
     "name": "stdout",
     "output_type": "stream",
     "text": [
      "5 <class 'int'>\n"
     ]
    }
   ],
   "source": [
    "print(a, type(a))"
   ]
  },
  {
   "cell_type": "markdown",
   "metadata": {},
   "source": [
    "### operators"
   ]
  },
  {
   "cell_type": "markdown",
   "metadata": {},
   "source": [
    "\" + - * / % // \""
   ]
  },
  {
   "cell_type": "code",
   "execution_count": 36,
   "metadata": {},
   "outputs": [
    {
     "name": "stdout",
     "output_type": "stream",
     "text": [
      "7\n",
      "3\n",
      "10\n",
      "2.5\n",
      "1\n",
      "2\n"
     ]
    }
   ],
   "source": [
    "print(5+2)\n",
    "print(5-2)\n",
    "print(5*2)\n",
    "print(5/2)\n",
    "print(5%2)\n",
    "print(5//2)"
   ]
  },
  {
   "cell_type": "markdown",
   "metadata": {},
   "source": [
    "< > >= <= == !="
   ]
  },
  {
   "cell_type": "code",
   "execution_count": 37,
   "metadata": {},
   "outputs": [
    {
     "name": "stdout",
     "output_type": "stream",
     "text": [
      "True\n",
      "False\n",
      "True\n",
      "False\n",
      "False\n",
      "True\n"
     ]
    }
   ],
   "source": [
    "print(5>2)\n",
    "print(5<2)\n",
    "print(5>=2)\n",
    "print(5<=2)\n",
    "print(5==2)\n",
    "print(5!=2)"
   ]
  },
  {
   "cell_type": "markdown",
   "metadata": {},
   "source": [
    "not and or"
   ]
  },
  {
   "cell_type": "code",
   "execution_count": 39,
   "metadata": {},
   "outputs": [
    {
     "name": "stdout",
     "output_type": "stream",
     "text": [
      "True\n"
     ]
    }
   ],
   "source": [
    "a = 5\n",
    "b = 7 \n",
    "print(a<10 and b<10)"
   ]
  },
  {
   "cell_type": "code",
   "execution_count": 40,
   "metadata": {},
   "outputs": [
    {
     "name": "stdout",
     "output_type": "stream",
     "text": [
      "False\n"
     ]
    }
   ],
   "source": [
    "a = 5\n",
    "b = 17 \n",
    "print(a<10 and b<10)"
   ]
  },
  {
   "cell_type": "code",
   "execution_count": 41,
   "metadata": {},
   "outputs": [
    {
     "name": "stdout",
     "output_type": "stream",
     "text": [
      "True\n"
     ]
    }
   ],
   "source": [
    "a = 5\n",
    "b = 7 \n",
    "print(a<10 or b<10)"
   ]
  },
  {
   "cell_type": "code",
   "execution_count": 42,
   "metadata": {},
   "outputs": [
    {
     "name": "stdout",
     "output_type": "stream",
     "text": [
      "True\n"
     ]
    }
   ],
   "source": [
    "a = 5\n",
    "b = 17 \n",
    "print(a<10 or b<10)"
   ]
  },
  {
   "cell_type": "code",
   "execution_count": 46,
   "metadata": {},
   "outputs": [
    {
     "name": "stdout",
     "output_type": "stream",
     "text": [
      "True <class 'NoneType'>\n"
     ]
    }
   ],
   "source": [
    "a = None\n",
    "print(not a, type(a))"
   ]
  },
  {
   "cell_type": "code",
   "execution_count": 45,
   "metadata": {},
   "outputs": [
    {
     "name": "stdout",
     "output_type": "stream",
     "text": [
      "False\n"
     ]
    }
   ],
   "source": [
    "a = 5\n",
    "print(not a)"
   ]
  },
  {
   "cell_type": "markdown",
   "metadata": {},
   "source": [
    "### if-else"
   ]
  },
  {
   "cell_type": "code",
   "execution_count": 49,
   "metadata": {},
   "outputs": [
    {
     "name": "stdout",
     "output_type": "stream",
     "text": [
      "Enter any number: 14\n",
      "even\n"
     ]
    }
   ],
   "source": [
    "num = int(input(\"Enter any number: \"))\n",
    "if num % 2 == 0:\n",
    "    print('even')\n",
    "else:\n",
    "    print(\"odd\")"
   ]
  },
  {
   "cell_type": "code",
   "execution_count": 52,
   "metadata": {},
   "outputs": [
    {
     "name": "stdout",
     "output_type": "stream",
     "text": [
      "Enter any number: 5\n",
      "odd\n"
     ]
    }
   ],
   "source": [
    "num = int(input(\"Enter any number: \"))\n",
    "if num % 4 == 0:\n",
    "    print(\"Number is divisible by 4 and even\")\n",
    "elif num % 2 == 0:\n",
    "    print('even')\n",
    "else:\n",
    "    print(\"odd\")"
   ]
  },
  {
   "cell_type": "markdown",
   "metadata": {},
   "source": [
    "### task-1"
   ]
  },
  {
   "cell_type": "markdown",
   "metadata": {
    "solution2": "hidden",
    "solution2_first": true
   },
   "source": [
    "write a python code for a rock_paper_scissor game using the following the conditions"
   ]
  },
  {
   "cell_type": "markdown",
   "metadata": {
    "solution2": "hidden"
   },
   "source": [
    "Rock beats scissor\n",
    "\n",
    "scissor beats paper\n",
    "\n",
    "paper beats rock"
   ]
  },
  {
   "cell_type": "code",
   "execution_count": 58,
   "metadata": {
    "solution2": "hidden"
   },
   "outputs": [
    {
     "name": "stdout",
     "output_type": "stream",
     "text": [
      "The choices are ['rock', 'scissor', 'paper']\n",
      "Enter your choice :q\n",
      "Good Bye....\n"
     ]
    }
   ],
   "source": [
    "j=[\"rock\",\"scissor\",\"paper\"]\n",
    "print(f\"The choices are {j}\")\n",
    "while 1:\n",
    "    user=input(\"Enter your choice :\")\n",
    "    if user==\"quit\" or user==\"q\":\n",
    "        print (\"Good Bye....\")\n",
    "        break\n",
    "    comp = input(\"Enter your choice :\")\n",
    "    print (\"Your choice is \",user,\"and computer choice is \",comp)\n",
    "    if user==comp:\n",
    "        print (\"Game is tie\")\n",
    "        continue\n",
    "    elif user==\"rock\":\n",
    "        if comp==\"scissor\":\n",
    "            print (\"user won the game\")\n",
    "        else:\n",
    "            print (\"Computer won the game\")\n",
    "    elif user==\"scissor\":\n",
    "        if comp==\"paper\":\n",
    "            print (\"user won the game\")\n",
    "        else:\n",
    "            print (\"computer won the game\")\n",
    "    elif user==\"paper\":\n",
    "        if comp==\"rock\":\n",
    "            print (\"user won the game\")\n",
    "        else:\n",
    "            print (\"computer won the game\")\n",
    "    else:\n",
    "        print (\"Have a nice day....!!!\")\n"
   ]
  },
  {
   "cell_type": "markdown",
   "metadata": {},
   "source": [
    "### while loop"
   ]
  },
  {
   "cell_type": "code",
   "execution_count": 59,
   "metadata": {},
   "outputs": [
    {
     "name": "stdout",
     "output_type": "stream",
     "text": [
      "Enter any number: 25\n",
      "odd\n",
      "Enter any number: 14\n",
      "even\n",
      "Enter any number: 36\n",
      "Number is divisible by 4 and even\n",
      "Enter any number: 45\n",
      "odd\n",
      "Enter any number: 51\n",
      "odd\n"
     ]
    }
   ],
   "source": [
    "i = 0\n",
    "while i < 5:\n",
    "    num = int(input(\"Enter any number: \"))\n",
    "    if num % 4 == 0:\n",
    "        print(\"Number is divisible by 4 and even\")\n",
    "    elif num % 2 == 0:\n",
    "        print('even')\n",
    "    else:\n",
    "        print(\"odd\")\n",
    "    i = i+1 # i += 1"
   ]
  },
  {
   "cell_type": "code",
   "execution_count": 60,
   "metadata": {},
   "outputs": [
    {
     "name": "stdout",
     "output_type": "stream",
     "text": [
      "Enter any number: 45\n",
      "odd\n",
      "Do you want to continue? y/ny\n",
      "Enter any number: 24\n",
      "Number is divisible by 4 and even\n",
      "Do you want to continue? y/nn\n"
     ]
    }
   ],
   "source": [
    "ans = 'y'\n",
    "while ans == 'y':\n",
    "    num = int(input(\"Enter any number: \"))\n",
    "    if num % 4 == 0:\n",
    "        print(\"Number is divisible by 4 and even\")\n",
    "    elif num % 2 == 0:\n",
    "        print('even')\n",
    "    else:\n",
    "        print(\"odd\")\n",
    "    ans = input(\"Do you want to continue? y/n: \")"
   ]
  },
  {
   "cell_type": "code",
   "execution_count": 61,
   "metadata": {},
   "outputs": [
    {
     "name": "stdout",
     "output_type": "stream",
     "text": [
      "Enter any number: 14\n",
      "even\n",
      "Do you want to continue? y/n: y\n",
      "Enter any number: 48\n",
      "Number is divisible by 4 and even\n",
      "Do you want to continue? y/n: n\n",
      "Game is over\n"
     ]
    }
   ],
   "source": [
    "ans = 'y'\n",
    "while ans == 'y':\n",
    "    num = int(input(\"Enter any number: \"))\n",
    "    if num % 4 == 0:\n",
    "        print(\"Number is divisible by 4 and even\")\n",
    "    elif num % 2 == 0:\n",
    "        print('even')\n",
    "    else:\n",
    "        print(\"odd\")\n",
    "    ans = input(\"Do you want to continue? y/n: \")\n",
    "else:\n",
    "    print(\"Game is over\")"
   ]
  },
  {
   "cell_type": "code",
   "execution_count": 64,
   "metadata": {},
   "outputs": [
    {
     "name": "stdout",
     "output_type": "stream",
     "text": [
      "Enter any number: 47\n",
      "odd\n",
      "Enter any number: 48\n",
      "Number is divisible by 4 and even\n",
      "Enter any number: 49\n",
      "odd\n",
      "Enter any number: 25\n",
      "Skipping.....\n",
      "Enter any number: 45\n",
      "odd\n",
      "Enter any number: 15\n",
      "Stopping.....\n"
     ]
    }
   ],
   "source": [
    "while 1:\n",
    "    num = int(input(\"Enter any number: \"))\n",
    "    \n",
    "    if num == 15:\n",
    "        print(\"Stopping.....\")\n",
    "        break\n",
    "    elif num == 25:\n",
    "        print(\"Skipping.....\")\n",
    "        continue\n",
    "    \n",
    "    if num % 4 == 0:\n",
    "        print(\"Number is divisible by 4 and even\")\n",
    "    elif num % 2 == 0:\n",
    "        print('even')\n",
    "    else:\n",
    "        print(\"odd\")"
   ]
  },
  {
   "cell_type": "markdown",
   "metadata": {},
   "source": [
    "### Homework task"
   ]
  },
  {
   "cell_type": "markdown",
   "metadata": {},
   "source": [
    "calculate the area of any 5 objects  like square,rectangle by asking the user the name of the object and it's corresponding inputs.\n",
    "\n",
    "refer the example given below\n",
    "\n",
    "<code>enter the name of the object\n",
    "circle\n",
    "enter the radius of the circle \n",
    "3\n",
    "The area of the circle is 28.26sq.cm with radius 3cm</code>\n"
   ]
  },
  {
   "cell_type": "code",
   "execution_count": null,
   "metadata": {},
   "outputs": [],
   "source": [
    "string\n",
    "list\n",
    "tuple\n",
    "dict\n",
    "for loop\n",
    "function\n"
   ]
  }
 ],
 "metadata": {
  "kernelspec": {
   "display_name": "Python 3",
   "language": "python",
   "name": "python3"
  },
  "language_info": {
   "codemirror_mode": {
    "name": "ipython",
    "version": 3
   },
   "file_extension": ".py",
   "mimetype": "text/x-python",
   "name": "python",
   "nbconvert_exporter": "python",
   "pygments_lexer": "ipython3",
   "version": "3.6.9"
  },
  "toc": {
   "base_numbering": 1,
   "nav_menu": {},
   "number_sections": true,
   "sideBar": true,
   "skip_h1_title": false,
   "title_cell": "Table of Contents",
   "title_sidebar": "Contents",
   "toc_cell": false,
   "toc_position": {},
   "toc_section_display": true,
   "toc_window_display": false
  },
  "varInspector": {
   "cols": {
    "lenName": 16,
    "lenType": 16,
    "lenVar": 40
   },
   "kernels_config": {
    "python": {
     "delete_cmd_postfix": "",
     "delete_cmd_prefix": "del ",
     "library": "var_list.py",
     "varRefreshCmd": "print(var_dic_list())"
    },
    "r": {
     "delete_cmd_postfix": ") ",
     "delete_cmd_prefix": "rm(",
     "library": "var_list.r",
     "varRefreshCmd": "cat(var_dic_list()) "
    }
   },
   "types_to_exclude": [
    "module",
    "function",
    "builtin_function_or_method",
    "instance",
    "_Feature"
   ],
   "window_display": false
  }
 },
 "nbformat": 4,
 "nbformat_minor": 2
}
